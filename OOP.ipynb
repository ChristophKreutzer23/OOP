{
 "cells": [
  {
   "cell_type": "markdown",
   "metadata": {},
   "source": [
    "# OOP\n",
    "\n",
    "Um in Python eine Instanz einer Klasse zu erstellen, wird folgende Syntax verwendet: \n"
   ]
  },
  {
   "cell_type": "code",
   "execution_count": 9,
   "metadata": {},
   "outputs": [],
   "source": [
    "from Wasserfahrzeug import Wasserfahrzeug # muss nicht jedesmal importiert werden\n",
    "\n",
    "# Der Variablen wasserfahrzeug1 wird eine neue Instanz der Klasse Wasserfahrzeug zugewiesen\n",
    "wasserfahrzeug1 = Wasserfahrzeug()\n",
    "\n",
    "\n",
    "# "
   ]
  },
  {
   "cell_type": "markdown",
   "metadata": {},
   "source": [
    "Hierbei werden die Attribute auf Standardwerte gesetzt. Die Eigenschaften der Instanz können als Übersicht ausgegeben werden:"
   ]
  },
  {
   "cell_type": "code",
   "execution_count": 10,
   "metadata": {},
   "outputs": [
    {
     "name": "stdout",
     "output_type": "stream",
     "text": [
      "Wasserfahrzeug[name=Wasserfahrzeug_name,besitzer=Max Mustermann,baujahr=2022,tiefgang=12.2]\n"
     ]
    }
   ],
   "source": [
    "# Ausgeben der Instanz wasserfahrzeug1 \n",
    "print(wasserfahrzeug1)"
   ]
  },
  {
   "cell_type": "markdown",
   "metadata": {},
   "source": [
    "Auf die Attribute kann auch einzeln zugegriffen werden: "
   ]
  },
  {
   "cell_type": "code",
   "execution_count": 11,
   "metadata": {},
   "outputs": [
    {
     "name": "stdout",
     "output_type": "stream",
     "text": [
      "Name: Wasserfahrzeug_name\n",
      "Besitzer: Max Mustermann\n",
      "Baujahr: 2022\n",
      "Tiefgang: 12.2\n"
     ]
    }
   ],
   "source": [
    "# Ausgabe des Namen\n",
    "print('Name:', wasserfahrzeug1.name)\n",
    "# Ausgabe des Besitzers\n",
    "print('Besitzer:', wasserfahrzeug1.besitzer)\n",
    "# Ausgabe des Baujahrs\n",
    "print('Baujahr:', wasserfahrzeug1.baujahr)\n",
    "# Ausgabe des Tiefgangs\n",
    "print('Tiefgang:', wasserfahrzeug1.tiefgang)"
   ]
  },
  {
   "cell_type": "markdown",
   "metadata": {},
   "source": [
    "Man kann die Belegung der Attribute auch ändern:"
   ]
  },
  {
   "cell_type": "code",
   "execution_count": 13,
   "metadata": {},
   "outputs": [
    {
     "name": "stdout",
     "output_type": "stream",
     "text": [
      "Wasserfahrzeug[name=0.2,besitzer=Herr Kreutzer,baujahr=1992,tiefgang=12.2]\n"
     ]
    }
   ],
   "source": [
    "# Ändern des Namen\n",
    "wasserfahrzeug1.name='Schlauchboot'\n",
    "\n",
    "# Ändern des Besitzer\n",
    "wasserfahrzeug1.besitzer='Herr Kreutzer'\n",
    "\n",
    "# Ändern des Baujahr\n",
    "wasserfahrzeug1.baujahr=1992\n",
    "\n",
    "# Ändern des Tiefgang\n",
    "wasserfahrzeug1.name=0.2\n",
    "\n",
    "# Ausgabe der Instanz\n",
    "print(wasserfahrzeug1)"
   ]
  },
  {
   "cell_type": "markdown",
   "metadata": {},
   "source": [
    "Jetzt sind Sie dran:\n",
    "\n",
    "**Erstellen Sie Objekte/Instanzen der Klasse Wasserfahrzeug mit folgenden Eigenschaften:**\n",
    "- Instanz 1:\n",
    "  - Name: Slice of Life\n",
    "  - Besitzer: Dexter Morgan\n",
    "  - Baujahr: 1993\n",
    "  - Tiefgang: 1.3\n",
    "\n",
    "- Instanz 2:\n",
    "  - Name: Ever Given\n",
    "  - Besitzer: Shoei Kisen Kaisha\n",
    "  - Baujahr: 2018\n",
    "  - Tiefgang: 15.7\n",
    "\n",
    "Sie *können* sich für die erste Instanz an den Kommentaren orientieren."
   ]
  },
  {
   "cell_type": "code",
   "execution_count": 14,
   "metadata": {},
   "outputs": [],
   "source": [
    "# Erstellen und Zuweisen der Instanz 1\n",
    "\n",
    "# Ausgabe der Attribute oder des gesamten Objets\n",
    "\n",
    "# Ändern der Belegung der Attribute\n",
    "\n",
    "# Ausgabe der Attribute oder des gesamten Objets\n",
    "\n",
    "################################################\n",
    "# Instanz 2"
   ]
  },
  {
   "cell_type": "markdown",
   "metadata": {},
   "source": [
    "Ändern Sie nun die Eigenschaften so, dass die Werte keinen Sinn mehr ergeben und geben Sie die Instanz nocheinmal aus:"
   ]
  },
  {
   "cell_type": "code",
   "execution_count": null,
   "metadata": {},
   "outputs": [],
   "source": [
    "# Hier könnte Ihr Code stehen:"
   ]
  },
  {
   "cell_type": "markdown",
   "metadata": {},
   "source": [
    "# STOP - BITTE erstmal nur bis hierher bearbeiten."
   ]
  },
  {
   "cell_type": "code",
   "execution_count": 18,
   "metadata": {},
   "outputs": [],
   "source": [
    "# Führen Sie diese Zelle aus\n",
    "\n",
    "from Wasserfahrzeug2 import Wasserfahrzeug\n"
   ]
  },
  {
   "cell_type": "markdown",
   "metadata": {},
   "source": [
    "Erstellen Sie eine weitere Instanz der Klasse Wasserfahrzeug. Verändern Sie dann Attribute wieder, seien Sie kreativ."
   ]
  },
  {
   "cell_type": "code",
   "execution_count": 19,
   "metadata": {},
   "outputs": [],
   "source": [
    "# Hier könnte Ihr Code stehen:"
   ]
  },
  {
   "cell_type": "markdown",
   "metadata": {},
   "source": [
    "Warum erhalten Sie den Fehler?\n",
    "\n",
    "Die Attribute wurden als privat gekennzeichnet und können somit nicht mehr direkt von außen verändert werden. Dies wird als **Kapselung** oder in Englisch **Encapsulation** bezeichnet. Durch diese Einschränkung kann verhindert werden, dass Attribute (aus versehen) mit unsinnigen Werten überschrieben werden.\n",
    "\n",
    "### Wie kann auf die Attribute zugegriffen werden?\n",
    "\n",
    "Die Klasse Wasserfahrzeug hat sogenannte **getter** (von engl. *to get*: *bekommen*). Diese können dazu verwendet werden um sich die Werte der Attribute geben zu lassen. Im Folgenden ist ein Beispiel für den getter für den Namen gegeben. Versuchen Sie analog die andere Attribute mithilfe der getter auszugeben."
   ]
  },
  {
   "cell_type": "code",
   "execution_count": 22,
   "metadata": {},
   "outputs": [
    {
     "name": "stdout",
     "output_type": "stream",
     "text": [
      "Name: Wasserfahrzeug_name\n"
     ]
    }
   ],
   "source": [
    "# erzeugen einer neuen Instanz\n",
    "fahrzeug = Wasserfahrzeug()\n",
    "\n",
    "# ausgeben des Namen\n",
    "print('Name:', fahrzeug.get_name())\n",
    "\n",
    "# ausgeben des Besitzers\n",
    "\n",
    "# ausgeben des Baujahrs\n",
    "\n",
    "# ausgeben des Tiefgangs"
   ]
  },
  {
   "cell_type": "markdown",
   "metadata": {},
   "source": [
    "### Aber wozu das ganze?\n",
    "\n",
    "Warum sollte der Zugriff mittels gettern geregelt werden, wenn man auf öffentliche Attribute auch direkt zugreifen möchte. Durch die Verwendung von gettern kann geregelt werden, welche Attribute abgerufen werden können. Außerdem erhält man die Möglichkeit die Werte in einem beliebigen Format zurückgeben. Beispielsweise eine Zahl als string.\n",
    "\n",
    "### Setter\n",
    "\n",
    "So richtig interessant wird die Kapselung allerdings erst bei den **settern** (von engl.: *to set*: *setzen/einstellen*). Im folgenden werden die Attribute unseres fahrzeugs gesetzt:"
   ]
  },
  {
   "cell_type": "code",
   "execution_count": 23,
   "metadata": {},
   "outputs": [],
   "source": [
    "# setzen des Namen\n",
    "fahrzeug.set_name('RMS Titanic')"
   ]
  },
  {
   "cell_type": "markdown",
   "metadata": {},
   "source": [
    "Recherchieren Sie die weiteren Daten für die Titanic und setzen sie die entsprechenden Attribute."
   ]
  },
  {
   "cell_type": "code",
   "execution_count": 26,
   "metadata": {},
   "outputs": [],
   "source": [
    "# setzen des Besitzers\n",
    "\n",
    "# setzen des Baujahrs\n",
    "\n",
    "# setzen des Tiefgangs\n",
    "\n",
    "# ausgabe\n"
   ]
  },
  {
   "cell_type": "markdown",
   "metadata": {},
   "source": [
    "Setzen Sie nun den Tiefgang, sowie das Baujahr jeweils auf eine negative Zahl."
   ]
  },
  {
   "cell_type": "code",
   "execution_count": 27,
   "metadata": {},
   "outputs": [],
   "source": [
    "# Hier könnte Ihr Code stehen"
   ]
  },
  {
   "cell_type": "code",
   "execution_count": null,
   "metadata": {},
   "outputs": [],
   "source": []
  }
 ],
 "metadata": {
  "interpreter": {
   "hash": "e2a7c3d20469dda411fd3211f02092a920078d1ca97c72d3dc7928b841d3a44a"
  },
  "kernelspec": {
   "display_name": "Python 3.9.5 64-bit",
   "language": "python",
   "name": "python3"
  },
  "language_info": {
   "codemirror_mode": {
    "name": "ipython",
    "version": 3
   },
   "file_extension": ".py",
   "mimetype": "text/x-python",
   "name": "python",
   "nbconvert_exporter": "python",
   "pygments_lexer": "ipython3",
   "version": "3.9.5"
  },
  "orig_nbformat": 4
 },
 "nbformat": 4,
 "nbformat_minor": 2
}
